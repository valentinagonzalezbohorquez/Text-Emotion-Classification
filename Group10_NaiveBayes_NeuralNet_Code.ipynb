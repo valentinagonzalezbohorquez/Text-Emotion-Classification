{
 "cells": [
  {
   "cell_type": "markdown",
   "id": "b2b5d72d",
   "metadata": {},
   "source": [
    "# Text Emotion Classification - Valentina/Varun Project Group 10 Code Naive Bayes + Neural Networks"
   ]
  },
  {
   "cell_type": "code",
   "execution_count": 1,
   "id": "68b288ca",
   "metadata": {},
   "outputs": [],
   "source": [
    "def read_corpus(filename):\n",
    "    \n",
    "    all_data = []\n",
    "    all_labels = []\n",
    "    reviews = open(filename, 'r').readlines()\n",
    "    for review in reviews:\n",
    "        review = review.strip()\n",
    "        \n",
    "        split = review.split(\";\")\n",
    "        \n",
    "        all_data.append(split[0])\n",
    "        all_labels.append(split[1])\n",
    "    return all_data, all_labels"
   ]
  },
  {
   "cell_type": "code",
   "execution_count": 2,
   "id": "4f56215d",
   "metadata": {},
   "outputs": [],
   "source": [
    "train_data, train_labels = read_corpus('train.txt')"
   ]
  },
  {
   "cell_type": "code",
   "execution_count": 3,
   "id": "b25aca39",
   "metadata": {},
   "outputs": [],
   "source": [
    "test_data, test_labels = read_corpus('test.txt')"
   ]
  },
  {
   "cell_type": "code",
   "execution_count": 4,
   "id": "c84952c6",
   "metadata": {},
   "outputs": [],
   "source": [
    "val_data, val_labels = read_corpus('val.txt')"
   ]
  },
  {
   "cell_type": "markdown",
   "id": "39197eb8",
   "metadata": {},
   "source": [
    "## Naive Bayes"
   ]
  },
  {
   "cell_type": "code",
   "execution_count": 6,
   "id": "0f574973",
   "metadata": {},
   "outputs": [],
   "source": [
    "from sklearn.feature_extraction.text import TfidfVectorizer\n",
    "from sklearn.naive_bayes import MultinomialNB\n",
    "from sklearn.pipeline import make_pipeline\n",
    "from sklearn.metrics import confusion_matrix\n",
    "from sklearn.metrics import ConfusionMatrixDisplay\n",
    "\n",
    "def trainTest(train_data, test_data, train_labels, test_labels):\n",
    "    model_fit = make_pipeline(TfidfVectorizer(), MultinomialNB())\n",
    "    model_fit.fit(train_data, train_labels)\n",
    "    predictions = model_fit.predict(test_data)\n",
    "    matrix = confusion_matrix(y_true=test_labels, y_pred=predictions, labels=model_fit.classes_)\n",
    "    return matrix, model_fit, predictions"
   ]
  },
  {
   "cell_type": "code",
   "execution_count": 7,
   "id": "1fd31154",
   "metadata": {},
   "outputs": [
    {
     "data": {
      "text/plain": [
       "array([[ 45,   0, 127,   0, 103,   0],\n",
       "       [  2,  41,  93,   0,  88,   0],\n",
       "       [  0,   0, 686,   0,   9,   0],\n",
       "       [  0,   0, 127,   4,  28,   0],\n",
       "       [  0,   0,  60,   0, 521,   0],\n",
       "       [  0,   0,  42,   0,  24,   0]])"
      ]
     },
     "execution_count": 7,
     "metadata": {},
     "output_type": "execute_result"
    }
   ],
   "source": [
    "matrix, model_fit, predictions = trainTest(train_data, test_data, train_labels, test_labels)\n",
    "matrix"
   ]
  },
  {
   "cell_type": "code",
   "execution_count": 8,
   "id": "e5361260",
   "metadata": {},
   "outputs": [],
   "source": [
    "import matplotlib.pyplot as plt\n",
    "import seaborn as sns; sns.set()\n",
    "\n",
    "def confusionHeatmap(matrix, labels):\n",
    "    plt.figure(figsize=(5,5))\n",
    "    sns.heatmap(matrix.T, square=True, annot=True, fmt='d', cbar=False, \n",
    "                xticklabels=labels, yticklabels=labels)\n",
    "    plt.xlabel('true label')\n",
    "    plt.ylabel('predicted label');"
   ]
  },
  {
   "cell_type": "code",
   "execution_count": 9,
   "id": "804d841f",
   "metadata": {},
   "outputs": [
    {
     "data": {
      "image/png": "[encoded data removed]",
      "text/plain": [
       "<Figure size 360x360 with 1 Axes>"
      ]
     },
     "metadata": {},
     "output_type": "display_data"
    }
   ],
   "source": [
    "confusionHeatmap(matrix, model_fit.classes_)"
   ]
  },
  {
   "cell_type": "code",
   "execution_count": 10,
   "id": "70b5ca59",
   "metadata": {},
   "outputs": [],
   "source": [
    "from sklearn.metrics import f1_score\n",
    "\n",
    "def calculateMicroMacroF1(true, pred):\n",
    "    micro = f1_score(true, pred, average='micro')\n",
    "    macro = f1_score(true, pred, average='macro')\n",
    "    return micro, macro"
   ]
  },
  {
   "cell_type": "code",
   "execution_count": 11,
   "id": "fada0941",
   "metadata": {},
   "outputs": [],
   "source": [
    "micro_cat, macro_cat = calculateMicroMacroF1(test_labels, predictions)"
   ]
  },
  {
   "cell_type": "code",
   "execution_count": 12,
   "id": "b259981c",
   "metadata": {},
   "outputs": [
    {
     "name": "stdout",
     "output_type": "stream",
     "text": [
      "Microaveraged F1 score for category predictions 0.6485\n",
      "Macroaveraged F1 score for category predictions 0.35955253966635575\n"
     ]
    }
   ],
   "source": [
    "print(\"Microaveraged F1 score for category predictions \" + str(micro_cat))\n",
    "print(\"Macroaveraged F1 score for category predictions \" + str(macro_cat))"
   ]
  },
  {
   "cell_type": "markdown",
   "id": "44da9444",
   "metadata": {},
   "source": [
    "## Neural Network Basic Architecture"
   ]
  },
  {
   "cell_type": "code",
   "execution_count": 100,
   "id": "b39ff38b",
   "metadata": {},
   "outputs": [
    {
     "name": "stdout",
     "output_type": "stream",
     "text": [
      "Iteration 1, loss = 1.69330616\n",
      "Validation score: 0.543750\n",
      "Iteration 2, loss = 1.36798520\n",
      "Validation score: 0.578750\n",
      "Iteration 3, loss = 1.05652440\n",
      "Validation score: 0.690625\n",
      "Iteration 4, loss = 0.73640417\n",
      "Validation score: 0.778750\n",
      "Iteration 5, loss = 0.49670159\n",
      "Validation score: 0.825625\n",
      "Iteration 6, loss = 0.34423464\n",
      "Validation score: 0.842500\n",
      "Iteration 7, loss = 0.25010059\n",
      "Validation score: 0.855625\n",
      "Iteration 8, loss = 0.19056473\n",
      "Validation score: 0.860000\n",
      "Iteration 9, loss = 0.15092094\n",
      "Validation score: 0.863125\n",
      "Iteration 10, loss = 0.12331768\n",
      "Validation score: 0.866875\n",
      "Iteration 11, loss = 0.10320769\n",
      "Validation score: 0.868125\n",
      "Iteration 12, loss = 0.08812676\n",
      "Validation score: 0.868125\n",
      "Iteration 13, loss = 0.07631970\n",
      "Validation score: 0.861875\n",
      "Iteration 14, loss = 0.06675634\n",
      "Validation score: 0.864375\n",
      "Iteration 15, loss = 0.05907251\n",
      "Validation score: 0.863750\n",
      "Iteration 16, loss = 0.05277413\n",
      "Validation score: 0.863750\n",
      "Iteration 17, loss = 0.04739879\n",
      "Validation score: 0.864375\n",
      "Iteration 18, loss = 0.04295870\n",
      "Validation score: 0.861250\n",
      "Iteration 19, loss = 0.03906860\n",
      "Validation score: 0.862500\n",
      "Iteration 20, loss = 0.03592834\n",
      "Validation score: 0.865625\n",
      "Iteration 21, loss = 0.03302729\n",
      "Validation score: 0.861875\n",
      "Iteration 22, loss = 0.03057675\n",
      "Validation score: 0.863125\n",
      "Validation score did not improve more than tol=0.000100 for 10 consecutive epochs. Stopping.\n"
     ]
    },
    {
     "data": {
      "text/plain": [
       "0.9775625"
      ]
     },
     "execution_count": 100,
     "metadata": {},
     "output_type": "execute_result"
    }
   ],
   "source": [
    "from sklearn.feature_extraction.text import TfidfVectorizer\n",
    "from sklearn.neural_network import MLPClassifier\n",
    "from sklearn.pipeline import make_pipeline\n",
    "\n",
    "mlp = MLPClassifier(hidden_layer_sizes=(50,), verbose=True, early_stopping=True)\n",
    "model_cat = make_pipeline(TfidfVectorizer(), mlp)\n",
    "model_cat.fit(train_data, train_labels).score(train_data, train_labels)"
   ]
  },
  {
   "cell_type": "code",
   "execution_count": 101,
   "id": "4de938c8",
   "metadata": {},
   "outputs": [
    {
     "data": {
      "text/plain": [
       "<matplotlib.legend.Legend at 0x7ff912496350>"
      ]
     },
     "execution_count": 101,
     "metadata": {},
     "output_type": "execute_result"
    },
    {
     "data": {
      "image/png": "[encoded data removed]",
      "text/plain": [
       "<Figure size 432x288 with 1 Axes>"
      ]
     },
     "metadata": {},
     "output_type": "display_data"
    }
   ],
   "source": [
    "pred_labels_cat = model_cat.predict(val_data)\n",
    "plt.plot(mlp.loss_curve_, label=\"Training Loss\")\n",
    "plt.plot(mlp.validation_scores_, label=\"Validation Accuracy\")\n",
    "plt.legend()"
   ]
  },
  {
   "cell_type": "code",
   "execution_count": 103,
   "id": "6f5a0869",
   "metadata": {},
   "outputs": [
    {
     "data": {
      "image/png": "[encoded data removed]",
      "text/plain": [
       "<Figure size 360x360 with 1 Axes>"
      ]
     },
     "metadata": {},
     "output_type": "display_data"
    }
   ],
   "source": [
    "matrix = confusion_matrix(y_true = val_labels, y_pred = pred_labels_cat, labels = clf.classes_)\n",
    "plt.figure(figsize=(5,5))\n",
    "sns.heatmap(matrix.T, square=True, annot=True, fmt='d', cbar=False, \n",
    "            xticklabels=clf.classes_, yticklabels=clf.classes_)\n",
    "plt.xlabel('true label')\n",
    "plt.ylabel('predicted label');"
   ]
  },
  {
   "cell_type": "code",
   "execution_count": 104,
   "id": "db86952b",
   "metadata": {},
   "outputs": [
    {
     "name": "stdout",
     "output_type": "stream",
     "text": [
      "Microaveraged F1 score for category predictions 0.871\n",
      "Macroaveraged F1 score for category predictions 0.8302525317499684\n"
     ]
    }
   ],
   "source": [
    "micro_cat, macro_cat = calculateMicroMacroF1(val_labels, pred_labels_cat)\n",
    "print(\"Microaveraged F1 score for category predictions \" + str(micro_cat))\n",
    "print(\"Macroaveraged F1 score for category predictions \" + str(macro_cat))"
   ]
  },
  {
   "cell_type": "code",
   "execution_count": 105,
   "id": "958b283d",
   "metadata": {},
   "outputs": [
    {
     "data": {
      "text/plain": [
       "0.871"
      ]
     },
     "execution_count": 105,
     "metadata": {},
     "output_type": "execute_result"
    }
   ],
   "source": [
    "from sklearn.metrics import accuracy_score\n",
    "accuracy_score(val_labels, pred_labels_cat)"
   ]
  },
  {
   "cell_type": "markdown",
   "id": "a0d3efa6",
   "metadata": {},
   "source": [
    "## Neural Network 2 - Complex architecture w/ regularization + more layers & units"
   ]
  },
  {
   "cell_type": "code",
   "execution_count": 19,
   "id": "2b8282ff",
   "metadata": {},
   "outputs": [
    {
     "name": "stdout",
     "output_type": "stream",
     "text": [
      "Iteration 1, loss = 1.48451732\n",
      "Validation score: 0.573125\n",
      "Iteration 2, loss = 0.67632199\n",
      "Validation score: 0.776875\n",
      "Iteration 3, loss = 0.23576474\n",
      "Validation score: 0.824375\n",
      "Iteration 4, loss = 0.08693346\n",
      "Validation score: 0.828125\n",
      "Iteration 5, loss = 0.05223248\n",
      "Validation score: 0.832500\n",
      "Iteration 6, loss = 0.03791701\n",
      "Validation score: 0.824375\n",
      "Iteration 7, loss = 0.03317445\n",
      "Validation score: 0.830000\n",
      "Iteration 8, loss = 0.02964354\n",
      "Validation score: 0.828125\n",
      "Iteration 9, loss = 0.02729677\n",
      "Validation score: 0.825000\n",
      "Iteration 10, loss = 0.02789270\n",
      "Validation score: 0.828125\n",
      "Iteration 11, loss = 0.02541297\n",
      "Validation score: 0.821250\n",
      "Iteration 12, loss = 0.02474797\n",
      "Validation score: 0.832500\n",
      "Iteration 13, loss = 0.02408665\n",
      "Validation score: 0.833125\n",
      "Iteration 14, loss = 0.02296083\n",
      "Validation score: 0.834375\n",
      "Iteration 15, loss = 0.02279641\n",
      "Validation score: 0.828125\n",
      "Iteration 16, loss = 0.02338300\n",
      "Validation score: 0.836250\n",
      "Iteration 17, loss = 0.02104322\n",
      "Validation score: 0.829375\n",
      "Iteration 18, loss = 0.02033727\n",
      "Validation score: 0.828125\n",
      "Iteration 19, loss = 0.02085164\n",
      "Validation score: 0.829375\n",
      "Iteration 20, loss = 0.02065243\n",
      "Validation score: 0.825000\n",
      "Iteration 21, loss = 0.02059383\n",
      "Validation score: 0.826875\n",
      "Iteration 22, loss = 0.01973026\n",
      "Validation score: 0.828750\n",
      "Iteration 23, loss = 0.02030775\n",
      "Validation score: 0.828750\n",
      "Iteration 24, loss = 0.02537644\n",
      "Validation score: 0.821250\n",
      "Iteration 25, loss = 0.09762309\n",
      "Validation score: 0.817500\n",
      "Iteration 26, loss = 0.08373684\n",
      "Validation score: 0.826250\n",
      "Iteration 27, loss = 0.04655668\n",
      "Validation score: 0.816250\n",
      "Iteration 28, loss = 0.03150433\n",
      "Validation score: 0.825000\n",
      "Iteration 29, loss = 0.02854962\n",
      "Validation score: 0.816875\n",
      "Iteration 30, loss = 0.02736791\n",
      "Validation score: 0.820625\n",
      "Iteration 31, loss = 0.02610691\n",
      "Validation score: 0.828125\n",
      "Iteration 32, loss = 0.02689546\n",
      "Validation score: 0.822500\n",
      "Iteration 33, loss = 0.02555783\n",
      "Validation score: 0.830625\n",
      "Iteration 34, loss = 0.02478949\n",
      "Validation score: 0.823750\n",
      "Iteration 35, loss = 0.02414165\n",
      "Validation score: 0.831250\n",
      "Iteration 36, loss = 0.02298583\n",
      "Validation score: 0.830000\n",
      "Iteration 37, loss = 0.02275562\n",
      "Validation score: 0.834375\n",
      "Iteration 38, loss = 0.02196117\n",
      "Validation score: 0.833125\n",
      "Iteration 39, loss = 0.02252964\n",
      "Validation score: 0.832500\n",
      "Iteration 40, loss = 0.02151872\n",
      "Validation score: 0.835625\n",
      "Iteration 41, loss = 0.02210620\n",
      "Validation score: 0.833750\n",
      "Iteration 42, loss = 0.02089804\n",
      "Validation score: 0.836250\n",
      "Iteration 43, loss = 0.02092447\n",
      "Validation score: 0.834375\n",
      "Iteration 44, loss = 0.02023076\n",
      "Validation score: 0.834375\n",
      "Iteration 45, loss = 0.02043789\n",
      "Validation score: 0.840625\n",
      "Iteration 46, loss = 0.01991267\n",
      "Validation score: 0.835000\n",
      "Iteration 47, loss = 0.01992416\n",
      "Validation score: 0.835625\n",
      "Iteration 48, loss = 0.01906268\n",
      "Validation score: 0.836875\n",
      "Iteration 49, loss = 0.01861895\n",
      "Validation score: 0.835625\n",
      "Iteration 50, loss = 0.01912446\n",
      "Validation score: 0.837500\n",
      "Iteration 51, loss = 0.01927520\n",
      "Validation score: 0.838125\n",
      "Iteration 52, loss = 0.01871735\n",
      "Validation score: 0.835625\n",
      "Iteration 53, loss = 0.01823891\n",
      "Validation score: 0.836875\n",
      "Iteration 54, loss = 0.01856291\n",
      "Validation score: 0.843750\n",
      "Iteration 55, loss = 0.01840372\n",
      "Validation score: 0.836250\n",
      "Iteration 56, loss = 0.01830820\n",
      "Validation score: 0.841250\n",
      "Iteration 57, loss = 0.02354668\n",
      "Validation score: 0.844375\n",
      "Iteration 58, loss = 0.06116401\n",
      "Validation score: 0.830000\n",
      "Iteration 59, loss = 0.07483404\n",
      "Validation score: 0.837500\n",
      "Iteration 60, loss = 0.04438154\n",
      "Validation score: 0.843750\n",
      "Iteration 61, loss = 0.02868230\n",
      "Validation score: 0.844375\n",
      "Iteration 62, loss = 0.02593449\n",
      "Validation score: 0.843750\n",
      "Iteration 63, loss = 0.02519255\n",
      "Validation score: 0.839375\n",
      "Iteration 64, loss = 0.02348212\n",
      "Validation score: 0.837500\n",
      "Iteration 65, loss = 0.02439468\n",
      "Validation score: 0.841250\n",
      "Iteration 66, loss = 0.02293680\n",
      "Validation score: 0.844375\n",
      "Iteration 67, loss = 0.02188100\n",
      "Validation score: 0.841875\n",
      "Iteration 68, loss = 0.02140494\n",
      "Validation score: 0.845000\n",
      "Iteration 69, loss = 0.02082951\n",
      "Validation score: 0.847500\n",
      "Iteration 70, loss = 0.02077467\n",
      "Validation score: 0.845000\n",
      "Iteration 71, loss = 0.02002392\n",
      "Validation score: 0.842500\n",
      "Iteration 72, loss = 0.01996841\n",
      "Validation score: 0.845000\n",
      "Iteration 73, loss = 0.01960721\n",
      "Validation score: 0.842500\n",
      "Iteration 74, loss = 0.01923594\n",
      "Validation score: 0.848750\n",
      "Iteration 75, loss = 0.01920957\n",
      "Validation score: 0.846250\n",
      "Iteration 76, loss = 0.01893484\n",
      "Validation score: 0.849375\n",
      "Iteration 77, loss = 0.01831120\n",
      "Validation score: 0.851875\n",
      "Iteration 78, loss = 0.01787727\n",
      "Validation score: 0.848750\n",
      "Iteration 79, loss = 0.01803645\n",
      "Validation score: 0.849375\n",
      "Iteration 80, loss = 0.01769742\n",
      "Validation score: 0.849375\n",
      "Iteration 81, loss = 0.01705902\n",
      "Validation score: 0.847500\n",
      "Iteration 82, loss = 0.01754932\n",
      "Validation score: 0.846250\n",
      "Iteration 83, loss = 0.01730658\n",
      "Validation score: 0.840625\n",
      "Iteration 84, loss = 0.01680662\n",
      "Validation score: 0.848750\n",
      "Iteration 85, loss = 0.01709152\n",
      "Validation score: 0.843125\n",
      "Iteration 86, loss = 0.01695638\n",
      "Validation score: 0.840625\n",
      "Iteration 87, loss = 0.01722306\n",
      "Validation score: 0.843750\n",
      "Iteration 88, loss = 0.02324813\n",
      "Validation score: 0.832500\n",
      "Iteration 89, loss = 0.04561895\n",
      "Validation score: 0.849375\n",
      "Iteration 90, loss = 0.03483529\n",
      "Validation score: 0.830000\n",
      "Iteration 91, loss = 0.03249580\n",
      "Validation score: 0.831875\n",
      "Iteration 92, loss = 0.02707542\n",
      "Validation score: 0.840000\n",
      "Iteration 93, loss = 0.02310966\n",
      "Validation score: 0.836250\n",
      "Iteration 94, loss = 0.02137055\n",
      "Validation score: 0.841875\n",
      "Iteration 95, loss = 0.02039843\n",
      "Validation score: 0.843750\n",
      "Iteration 96, loss = 0.02003727\n",
      "Validation score: 0.844375\n",
      "Iteration 97, loss = 0.01901839\n",
      "Validation score: 0.843750\n",
      "Iteration 98, loss = 0.01876934\n",
      "Validation score: 0.845625\n",
      "Iteration 99, loss = 0.01838639\n",
      "Validation score: 0.850625\n",
      "Iteration 100, loss = 0.01798199\n",
      "Validation score: 0.848750\n",
      "Iteration 101, loss = 0.01758669\n",
      "Validation score: 0.848125\n",
      "Iteration 102, loss = 0.01776415\n",
      "Validation score: 0.853125\n",
      "Iteration 103, loss = 0.01760367\n",
      "Validation score: 0.848750\n",
      "Iteration 104, loss = 0.01702151\n",
      "Validation score: 0.850000\n",
      "Iteration 105, loss = 0.01639264\n",
      "Validation score: 0.849375\n",
      "Iteration 106, loss = 0.01626785\n",
      "Validation score: 0.852500\n",
      "Iteration 107, loss = 0.01611425\n",
      "Validation score: 0.847500\n",
      "Iteration 108, loss = 0.01591370\n",
      "Validation score: 0.851250\n",
      "Iteration 109, loss = 0.01567012\n",
      "Validation score: 0.853750\n",
      "Iteration 110, loss = 0.01516881\n",
      "Validation score: 0.855625\n",
      "Iteration 111, loss = 0.01579756\n",
      "Validation score: 0.850000\n",
      "Iteration 112, loss = 0.01559751\n",
      "Validation score: 0.853125\n",
      "Iteration 113, loss = 0.01598233\n",
      "Validation score: 0.852500\n",
      "Iteration 114, loss = 0.01538384\n",
      "Validation score: 0.860625\n",
      "Iteration 115, loss = 0.01587917\n",
      "Validation score: 0.855000\n",
      "Iteration 116, loss = 0.01611117\n",
      "Validation score: 0.848750\n",
      "Iteration 117, loss = 0.01971907\n",
      "Validation score: 0.838750\n",
      "Iteration 118, loss = 0.02812267\n",
      "Validation score: 0.841250\n",
      "Iteration 119, loss = 0.03902192\n",
      "Validation score: 0.833750\n",
      "Iteration 120, loss = 0.03294757\n",
      "Validation score: 0.834375\n",
      "Iteration 121, loss = 0.02371547\n",
      "Validation score: 0.833750\n",
      "Iteration 122, loss = 0.02020139\n",
      "Validation score: 0.834375\n",
      "Iteration 123, loss = 0.01941937\n",
      "Validation score: 0.836250\n",
      "Iteration 124, loss = 0.01873332\n",
      "Validation score: 0.840000\n",
      "Iteration 125, loss = 0.01802696\n",
      "Validation score: 0.835625\n",
      "Iteration 126, loss = 0.01768565\n",
      "Validation score: 0.840625\n",
      "Iteration 127, loss = 0.01711758\n",
      "Validation score: 0.840000\n",
      "Iteration 128, loss = 0.01669291\n",
      "Validation score: 0.843125\n",
      "Iteration 129, loss = 0.01618807\n",
      "Validation score: 0.848750\n",
      "Iteration 130, loss = 0.01614383\n",
      "Validation score: 0.842500\n",
      "Iteration 131, loss = 0.01620286\n",
      "Validation score: 0.843125\n",
      "Iteration 132, loss = 0.01591032\n",
      "Validation score: 0.849375\n",
      "Iteration 133, loss = 0.01542351\n",
      "Validation score: 0.839375\n",
      "Iteration 134, loss = 0.01534266\n",
      "Validation score: 0.842500\n",
      "Iteration 135, loss = 0.01515546\n",
      "Validation score: 0.843125\n",
      "Iteration 136, loss = 0.01505674\n",
      "Validation score: 0.846875\n",
      "Iteration 137, loss = 0.01480176\n",
      "Validation score: 0.849375\n",
      "Iteration 138, loss = 0.01465066\n",
      "Validation score: 0.843125\n",
      "Iteration 139, loss = 0.01488937\n",
      "Validation score: 0.846875\n"
     ]
    },
    {
     "name": "stdout",
     "output_type": "stream",
     "text": [
      "Iteration 140, loss = 0.01426691\n",
      "Validation score: 0.849375\n",
      "Iteration 141, loss = 0.01394584\n",
      "Validation score: 0.850000\n",
      "Iteration 142, loss = 0.01388528\n",
      "Validation score: 0.850625\n",
      "Iteration 143, loss = 0.01401764\n",
      "Validation score: 0.846875\n",
      "Iteration 144, loss = 0.01387104\n",
      "Validation score: 0.849375\n",
      "Iteration 145, loss = 0.01364659\n",
      "Validation score: 0.845000\n",
      "Iteration 146, loss = 0.01363727\n",
      "Validation score: 0.846250\n",
      "Iteration 147, loss = 0.01417588\n",
      "Validation score: 0.850000\n",
      "Iteration 148, loss = 0.01443369\n",
      "Validation score: 0.843750\n",
      "Iteration 149, loss = 0.01425592\n",
      "Validation score: 0.847500\n",
      "Iteration 150, loss = 0.01846749\n",
      "Validation score: 0.829375\n",
      "Iteration 151, loss = 0.03805181\n",
      "Validation score: 0.806875\n",
      "Iteration 152, loss = 0.04058363\n",
      "Validation score: 0.837500\n",
      "Iteration 153, loss = 0.02525105\n",
      "Validation score: 0.835625\n",
      "Iteration 154, loss = 0.01983062\n",
      "Validation score: 0.831875\n",
      "Iteration 155, loss = 0.01834848\n",
      "Validation score: 0.836250\n",
      "Iteration 156, loss = 0.01786024\n",
      "Validation score: 0.833750\n",
      "Iteration 157, loss = 0.01716197\n",
      "Validation score: 0.836875\n",
      "Iteration 158, loss = 0.01685659\n",
      "Validation score: 0.835625\n",
      "Iteration 159, loss = 0.01632194\n",
      "Validation score: 0.836250\n",
      "Iteration 160, loss = 0.01617129\n",
      "Validation score: 0.838125\n",
      "Iteration 161, loss = 0.01574965\n",
      "Validation score: 0.835625\n",
      "Iteration 162, loss = 0.01515066\n",
      "Validation score: 0.839375\n",
      "Iteration 163, loss = 0.01528978\n",
      "Validation score: 0.841250\n",
      "Iteration 164, loss = 0.01516556\n",
      "Validation score: 0.839375\n",
      "Iteration 165, loss = 0.01469945\n",
      "Validation score: 0.841250\n",
      "Validation score did not improve more than tol=0.000100 for 50 consecutive epochs. Stopping.\n"
     ]
    },
    {
     "data": {
      "text/plain": [
       "0.984625"
      ]
     },
     "execution_count": 19,
     "metadata": {},
     "output_type": "execute_result"
    }
   ],
   "source": [
    "from sklearn.feature_extraction.text import TfidfVectorizer\n",
    "from sklearn.neural_network import MLPClassifier\n",
    "from sklearn.pipeline import make_pipeline\n",
    "\n",
    "mlp = MLPClassifier(hidden_layer_sizes=(100,100,100,100), alpha=0.01, max_iter=500, early_stopping=True, verbose=True, n_iter_no_change=50)\n",
    "model_cat2 = make_pipeline(TfidfVectorizer(), mlp)\n",
    "model_cat2.fit(train_data, train_labels).score(train_data, train_labels)\n"
   ]
  },
  {
   "cell_type": "code",
   "execution_count": 20,
   "id": "8c90351a",
   "metadata": {},
   "outputs": [
    {
     "data": {
      "text/plain": [
       "<matplotlib.legend.Legend at 0x7fba185f8d50>"
      ]
     },
     "execution_count": 20,
     "metadata": {},
     "output_type": "execute_result"
    },
    {
     "data": {
      "image/png": "[encoded data removed]",
      "text/plain": [
       "<Figure size 432x288 with 1 Axes>"
      ]
     },
     "metadata": {},
     "output_type": "display_data"
    }
   ],
   "source": [
    "pred_labels_cat2 = model_cat2.predict(val_data)\n",
    "plt.plot(mlp.loss_curve_, label=\"Training Loss\")\n",
    "plt.plot(mlp.validation_scores_, label=\"Validation Accuracy\")\n",
    "plt.legend()"
   ]
  },
  {
   "cell_type": "code",
   "execution_count": 21,
   "id": "86b08fd7",
   "metadata": {},
   "outputs": [
    {
     "data": {
      "image/png": "[encoded data removed]",
      "text/plain": [
       "<Figure size 360x360 with 1 Axes>"
      ]
     },
     "metadata": {},
     "output_type": "display_data"
    }
   ],
   "source": [
    "matrix = confusion_matrix(y_true = val_labels, y_pred = pred_labels_cat2, labels = model_cat2.classes_)\n",
    "plt.figure(figsize=(5,5))\n",
    "sns.heatmap(matrix.T, square=True, annot=True, fmt='d', cbar=False, \n",
    "            xticklabels=model_cat2.classes_, yticklabels=model_cat2.classes_)\n",
    "plt.xlabel('true label')\n",
    "plt.ylabel('predicted label');"
   ]
  },
  {
   "cell_type": "code",
   "execution_count": 22,
   "id": "b81063da",
   "metadata": {},
   "outputs": [
    {
     "name": "stdout",
     "output_type": "stream",
     "text": [
      "Microaveraged F1 score for category predictions 0.871\n",
      "Macroaveraged F1 score for category predictions 0.8379677996794316\n"
     ]
    }
   ],
   "source": [
    "micro_cat, macro_cat = calculateMicroMacroF1(val_labels, pred_labels_cat2)\n",
    "print(\"Microaveraged F1 score for category predictions \" + str(micro_cat))\n",
    "print(\"Macroaveraged F1 score for category predictions \" + str(macro_cat))"
   ]
  },
  {
   "cell_type": "code",
   "execution_count": 23,
   "id": "3f0360ef",
   "metadata": {},
   "outputs": [
    {
     "data": {
      "text/plain": [
       "0.871"
      ]
     },
     "execution_count": 23,
     "metadata": {},
     "output_type": "execute_result"
    }
   ],
   "source": [
    "from sklearn.metrics import accuracy_score\n",
    "accuracy_score(val_labels, pred_labels_cat2)"
   ]
  },
  {
   "cell_type": "markdown",
   "id": "50e27585",
   "metadata": {},
   "source": [
    "### Applying neural network 2 to test data"
   ]
  },
  {
   "cell_type": "code",
   "execution_count": 24,
   "id": "0b650b7a",
   "metadata": {},
   "outputs": [
    {
     "data": {
      "text/plain": [
       "<matplotlib.legend.Legend at 0x7fba18698810>"
      ]
     },
     "execution_count": 24,
     "metadata": {},
     "output_type": "execute_result"
    },
    {
     "data": {
      "image/png": "[encoded data removed]",
      "text/plain": [
       "<Figure size 432x288 with 1 Axes>"
      ]
     },
     "metadata": {},
     "output_type": "display_data"
    }
   ],
   "source": [
    "pred_labels_cat2 = model_cat2.predict(test_data)\n",
    "plt.plot(mlp.loss_curve_, label=\"Training Loss\")\n",
    "plt.plot(mlp.validation_scores_, label=\"Test Accuracy\")\n",
    "plt.legend()"
   ]
  },
  {
   "cell_type": "code",
   "execution_count": 25,
   "id": "6f6d2944",
   "metadata": {},
   "outputs": [
    {
     "data": {
      "image/png": "[encoded data removed]",
      "text/plain": [
       "<Figure size 360x360 with 1 Axes>"
      ]
     },
     "metadata": {},
     "output_type": "display_data"
    }
   ],
   "source": [
    "matrix = confusion_matrix(y_true = test_labels, y_pred = pred_labels_cat2, labels = model_cat2.classes_)\n",
    "plt.figure(figsize=(5,5))\n",
    "sns.heatmap(matrix.T, square=True, annot=True, fmt='d', cbar=False, \n",
    "            xticklabels=model_cat2.classes_, yticklabels=model_cat2.classes_)\n",
    "plt.xlabel('true label')\n",
    "plt.ylabel('predicted label');"
   ]
  },
  {
   "cell_type": "code",
   "execution_count": 26,
   "id": "2c3deb24",
   "metadata": {},
   "outputs": [
    {
     "data": {
      "text/plain": [
       "0.8655"
      ]
     },
     "execution_count": 26,
     "metadata": {},
     "output_type": "execute_result"
    }
   ],
   "source": [
    "from sklearn.metrics import accuracy_score\n",
    "accuracy_score(test_labels, pred_labels_cat2)"
   ]
  },
  {
   "cell_type": "code",
   "execution_count": 27,
   "id": "f1e8825b",
   "metadata": {},
   "outputs": [
    {
     "name": "stdout",
     "output_type": "stream",
     "text": [
      "Microaveraged F1 score for category predictions 0.8655\n",
      "Macroaveraged F1 score for category predictions 0.8192847981416026\n"
     ]
    }
   ],
   "source": [
    "micro_cat, macro_cat = calculateMicroMacroF1(test_labels, pred_labels_cat2)\n",
    "print(\"Microaveraged F1 score for category predictions \" + str(micro_cat))\n",
    "print(\"Macroaveraged F1 score for category predictions \" + str(macro_cat))"
   ]
  },
  {
   "cell_type": "markdown",
   "id": "380711fa",
   "metadata": {},
   "source": [
    "## Neural Network 3 - Glove embeddings + OOV dictionary"
   ]
  },
  {
   "cell_type": "code",
   "execution_count": 5,
   "id": "742ac58a",
   "metadata": {},
   "outputs": [],
   "source": [
    "def calc_doc_embedding(doc, embeddings, embed_size, OOV_embed):\n",
    "    word_count = 0\n",
    "    doc_embed = np.zeros(embed_size, dtype=float)\n",
    "    for word in doc.split():\n",
    "        if word not in stopset:\n",
    "            if (word in embeddings):\n",
    "                word_embedding = embeddings[word]\n",
    "            elif word in OOV_embed:\n",
    "                word_embedding = OOV_embed[word]\n",
    "            else:\n",
    "                word_embedding = np.random.random(embed_size)\n",
    "                OOV_embed[word] = word_embedding\n",
    "            doc_embed += word_embedding\n",
    "            word_count += 1\n",
    "    doc_embed /= word_count\n",
    "    return doc_embed"
   ]
  },
  {
   "cell_type": "code",
   "execution_count": 6,
   "id": "d5bf5c5c",
   "metadata": {},
   "outputs": [
    {
     "name": "stderr",
     "output_type": "stream",
     "text": [
      "/Users/varunkrishnan/opt/anaconda3/lib/python3.7/site-packages/ipykernel_launcher.py:12: DeprecationWarning: Call to deprecated `glove2word2vec` (KeyedVectors.load_word2vec_format(.., binary=False, no_header=True) loads GLoVE text vectors.).\n",
      "  if sys.path[0] == '':\n"
     ]
    }
   ],
   "source": [
    "import numpy as np\n",
    "from gensim.test.utils import datapath, get_tmpfile\n",
    "from gensim.models import KeyedVectors\n",
    "from gensim.scripts.glove2word2vec import glove2word2vec\n",
    "from nltk.corpus import stopwords\n",
    "import string\n",
    "\n",
    "stopset = stopwords.words('english') + list(string.punctuation)\n",
    "\n",
    "glove_file = datapath('/Users/varunkrishnan/Documents/school/STATSOFTWARE577/glove.6B.50d.txt')\n",
    "word2vec_text_file = get_tmpfile(\"glove.6B.50d.word2vec.txt\")\n",
    "glove2word2vec(glove_file, word2vec_text_file)\n",
    "\n",
    "model = KeyedVectors.load_word2vec_format(word2vec_text_file)\n",
    "\n",
    "OOV_embed = {}\n",
    "train_data_embed = np.vstack([calc_doc_embedding(doc, model, 50, OOV_embed) for doc in train_data])\n",
    "val_data_embed = np.vstack([calc_doc_embedding(doc, model, 50, OOV_embed) for doc in val_data])\n"
   ]
  },
  {
   "cell_type": "code",
   "execution_count": 7,
   "id": "e6f21fc2",
   "metadata": {},
   "outputs": [
    {
     "name": "stdout",
     "output_type": "stream",
     "text": [
      "1102\n"
     ]
    }
   ],
   "source": [
    "print(len(OOV_embed))"
   ]
  },
  {
   "cell_type": "code",
   "execution_count": 42,
   "id": "5118ac42",
   "metadata": {},
   "outputs": [
    {
     "name": "stdout",
     "output_type": "stream",
     "text": [
      "Iteration 1, loss = 1.38598388\n",
      "Validation score: 0.501250\n",
      "Iteration 2, loss = 1.25021369\n",
      "Validation score: 0.530625\n",
      "Iteration 3, loss = 1.20048909\n",
      "Validation score: 0.540000\n",
      "Iteration 4, loss = 1.16535061\n",
      "Validation score: 0.537500\n",
      "Iteration 5, loss = 1.13368971\n",
      "Validation score: 0.535625\n",
      "Iteration 6, loss = 1.10191054\n",
      "Validation score: 0.554375\n",
      "Iteration 7, loss = 1.07948905\n",
      "Validation score: 0.545625\n",
      "Iteration 8, loss = 1.04742708\n",
      "Validation score: 0.560625\n",
      "Iteration 9, loss = 1.02408085\n",
      "Validation score: 0.569375\n",
      "Iteration 10, loss = 0.98586219\n",
      "Validation score: 0.564375\n",
      "Iteration 11, loss = 0.96023138\n",
      "Validation score: 0.561875\n",
      "Iteration 12, loss = 0.92827353\n",
      "Validation score: 0.558125\n",
      "Iteration 13, loss = 0.88989010\n",
      "Validation score: 0.563750\n",
      "Iteration 14, loss = 0.86817782\n",
      "Validation score: 0.566250\n",
      "Iteration 15, loss = 0.83079610\n",
      "Validation score: 0.566250\n",
      "Iteration 16, loss = 0.78969210\n",
      "Validation score: 0.560625\n",
      "Iteration 17, loss = 0.74781022\n",
      "Validation score: 0.557500\n",
      "Iteration 18, loss = 0.71774634\n",
      "Validation score: 0.548125\n",
      "Iteration 19, loss = 0.67842144\n",
      "Validation score: 0.552500\n",
      "Iteration 20, loss = 0.64408260\n",
      "Validation score: 0.530625\n",
      "Iteration 21, loss = 0.58347959\n",
      "Validation score: 0.561250\n",
      "Iteration 22, loss = 0.53730913\n",
      "Validation score: 0.559375\n",
      "Iteration 23, loss = 0.52716240\n",
      "Validation score: 0.541875\n",
      "Iteration 24, loss = 0.47071540\n",
      "Validation score: 0.537500\n",
      "Iteration 25, loss = 0.43193229\n",
      "Validation score: 0.531250\n",
      "Iteration 26, loss = 0.38560965\n",
      "Validation score: 0.546250\n",
      "Iteration 27, loss = 0.34913455\n",
      "Validation score: 0.531250\n",
      "Iteration 28, loss = 0.30989381\n",
      "Validation score: 0.536875\n",
      "Iteration 29, loss = 0.29065195\n",
      "Validation score: 0.516875\n",
      "Iteration 30, loss = 0.27292107\n",
      "Validation score: 0.536875\n",
      "Iteration 31, loss = 0.23307481\n",
      "Validation score: 0.521875\n",
      "Iteration 32, loss = 0.18702862\n",
      "Validation score: 0.538750\n",
      "Iteration 33, loss = 0.17895232\n",
      "Validation score: 0.523125\n",
      "Iteration 34, loss = 0.17484875\n",
      "Validation score: 0.528750\n",
      "Iteration 35, loss = 0.13800729\n",
      "Validation score: 0.545000\n",
      "Iteration 36, loss = 0.14159731\n",
      "Validation score: 0.520000\n",
      "Iteration 37, loss = 0.12466676\n",
      "Validation score: 0.534375\n",
      "Iteration 38, loss = 0.10139505\n",
      "Validation score: 0.544375\n",
      "Iteration 39, loss = 0.09482072\n",
      "Validation score: 0.548750\n",
      "Iteration 40, loss = 0.07997563\n",
      "Validation score: 0.522500\n",
      "Iteration 41, loss = 0.07756287\n",
      "Validation score: 0.535625\n",
      "Iteration 42, loss = 0.09442064\n",
      "Validation score: 0.538750\n",
      "Iteration 43, loss = 0.12276575\n",
      "Validation score: 0.538125\n",
      "Iteration 44, loss = 0.15927022\n",
      "Validation score: 0.530000\n",
      "Iteration 45, loss = 0.10585785\n",
      "Validation score: 0.515625\n",
      "Iteration 46, loss = 0.08493208\n",
      "Validation score: 0.526875\n",
      "Iteration 47, loss = 0.06228370\n",
      "Validation score: 0.534375\n",
      "Iteration 48, loss = 0.05890171\n",
      "Validation score: 0.523750\n",
      "Iteration 49, loss = 0.05079846\n",
      "Validation score: 0.530625\n",
      "Iteration 50, loss = 0.06253518\n",
      "Validation score: 0.522500\n",
      "Iteration 51, loss = 0.07674314\n",
      "Validation score: 0.521250\n",
      "Iteration 52, loss = 0.07357952\n",
      "Validation score: 0.538750\n",
      "Iteration 53, loss = 0.07074898\n",
      "Validation score: 0.535625\n",
      "Iteration 54, loss = 0.06177356\n",
      "Validation score: 0.525625\n",
      "Iteration 55, loss = 0.05887067\n",
      "Validation score: 0.533125\n",
      "Iteration 56, loss = 0.06602889\n",
      "Validation score: 0.527500\n",
      "Iteration 57, loss = 0.09333073\n",
      "Validation score: 0.518125\n",
      "Iteration 58, loss = 0.13908536\n",
      "Validation score: 0.519375\n",
      "Iteration 59, loss = 0.09535961\n",
      "Validation score: 0.510625\n",
      "Iteration 60, loss = 0.06486330\n",
      "Validation score: 0.534375\n",
      "Validation score did not improve more than tol=0.000100 for 50 consecutive epochs. Stopping.\n"
     ]
    },
    {
     "data": {
      "text/plain": [
       "0.6249375"
      ]
     },
     "execution_count": 42,
     "metadata": {},
     "output_type": "execute_result"
    }
   ],
   "source": [
    "model_cat_embed = MLPClassifier(hidden_layer_sizes=(600,400,100,50), alpha=0.001, max_iter=500, early_stopping=True, verbose=True,n_iter_no_change=50)\n",
    "model_cat_embed.fit(train_data_embed, train_labels).score(train_data_embed, train_labels)"
   ]
  },
  {
   "cell_type": "code",
   "execution_count": 43,
   "id": "1b810abb",
   "metadata": {},
   "outputs": [],
   "source": [
    "pred_labels_cat_embed = model_cat_embed.predict(val_data_embed)\n"
   ]
  },
  {
   "cell_type": "code",
   "execution_count": 44,
   "id": "10c0c04a",
   "metadata": {},
   "outputs": [
    {
     "data": {
      "image/png": "[encoded data removed]",
      "text/plain": [
       "<Figure size 360x360 with 1 Axes>"
      ]
     },
     "metadata": {},
     "output_type": "display_data"
    }
   ],
   "source": [
    "matrix = confusion_matrix(y_true = val_labels, y_pred = pred_labels_cat_embed, labels = model_cat_embed.classes_)\n",
    "plt.figure(figsize=(5,5))\n",
    "sns.heatmap(matrix.T, square=True, annot=True, fmt='d', cbar=False, \n",
    "            xticklabels=model_cat_embed.classes_, yticklabels=model_cat_embed.classes_)\n",
    "plt.xlabel('true label')\n",
    "plt.ylabel('predicted label');"
   ]
  },
  {
   "cell_type": "code",
   "execution_count": 45,
   "id": "8f0811ee",
   "metadata": {},
   "outputs": [
    {
     "data": {
      "text/plain": [
       "0.568"
      ]
     },
     "execution_count": 45,
     "metadata": {},
     "output_type": "execute_result"
    }
   ],
   "source": [
    "from sklearn.metrics import accuracy_score\n",
    "accuracy_score(val_labels, pred_labels_cat_embed)"
   ]
  }
 ],
 "metadata": {
  "kernelspec": {
   "display_name": "Python 3 (ipykernel)",
   "language": "python",
   "name": "python3"
  },
  "language_info": {
   "codemirror_mode": {
    "name": "ipython",
    "version": 3
   },
   "file_extension": ".py",
   "mimetype": "text/x-python",
   "name": "python",
   "nbconvert_exporter": "python",
   "pygments_lexer": "ipython3",
   "version": "3.7.6"
  }
 },
 "nbformat": 4,
 "nbformat_minor": 5
}
